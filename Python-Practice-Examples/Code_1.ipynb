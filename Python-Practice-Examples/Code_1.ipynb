{
 "cells": [
  {
   "cell_type": "code",
   "execution_count": 11,
   "id": "65d7b8ec-23bf-4c6f-ae61-d881e37eaea9",
   "metadata": {},
   "outputs": [
    {
     "name": "stdin",
     "output_type": "stream",
     "text": [
      "Lütfen 1. sayıyı giriniz:  50\n",
      "Lütfen 2. sayıyı giriniz:  0\n"
     ]
    },
    {
     "name": "stdout",
     "output_type": "stream",
     "text": [
      "Hata = division by zero\n"
     ]
    }
   ],
   "source": [
    "# Kullanıcıdan iki adet tamsayı alan ve bu iki sayıyla\n",
    "# 4 temel işlemi yapan; ayrıca her iki sayının da 5.dereceden\n",
    "# üssünü alan kodu yazınız...\n",
    "\n",
    "number_1 = input(\"Lütfen 1. sayıyı giriniz: \")\n",
    "number_2 = input(\"Lütfen 2. sayıyı giriniz: \")\n",
    "\n",
    "# try-except blokları\n",
    "# çalışmasını istediğimiz kodu try bloku içerisine yazarız\n",
    "# bir hata olması durumunda direkt hatayı bize gösteren\n",
    "# except blokunda da hatayı tanımlarız\n",
    "\n",
    "# \"number_1/number_2\" print ile ilk yazılan süslü parantez\n",
    "# number_1/number_2 ise print ile eşitlikten sonra yazdığımız süslü parentez\n",
    "#45+50 = 95\n",
    "# / sonucu = 50/5 = 10.0\n",
    "# // sonucu = 50/5 = int(10.0) = 10\n",
    "# isdigit() fonksiyonu, değişkenin int tipinde olup olmadığını kontrol eder\n",
    "# geriye True ya da False olarak 2 farklı yanıt döndürür.\n",
    "# Eğer değerler int tipinde ise True, değilse False yanıtı döndürür.\n",
    "try:\n",
    "    if number_1.isdigit() and number_2.isdigit():\n",
    "        number_1 = int(number_1)\n",
    "        number_2 = int(number_2)\n",
    "\n",
    "        bolme = number_1/number_2\n",
    "        \n",
    "        print(f\"{number_1}+{number_2} = {number_1+number_2}\")\n",
    "        print(f\"{number_1}-{number_2} = {number_1-number_2}\")\n",
    "        print(f\"{number_1}*{number_2} = {number_1*number_2}\")\n",
    "        print(f\"{number_1}/{number_2} (float tipinde) = {number_1/number_2}\")\n",
    "        print(f\"{number_1}/{number_2} (float tipinde  düşük hassasiyet 1) = {number_1/number_2:0.2f}\")\n",
    "        print(f\"{number_1}/{number_2} (float tipinde düşük hassasiyet 2) = {bolme:0.2f}\")\n",
    "        print(f\"{number_1}//{number_2} (int tipinde) = {number_1//number_2}\")\n",
    "        print(f\"{number_1}/{number_2} int() ile dönüştürülmüş hali= {int(number_1/number_2)}\")\n",
    "        print(f\"{number_1}**5 = {number_1**5}\")\n",
    "        print(f\"{number_2}**5 = {number_2**5}\")\n",
    "    else:\n",
    "        print(\"Lütfen 2 sayının da tamsayı olduğundan emin olun\")\n",
    "\n",
    "except Exception as e:\n",
    "    print(f\"Hata = {e}\")"
   ]
  },
  {
   "cell_type": "code",
   "execution_count": 15,
   "id": "e27959ac-b19d-43ce-b67c-c172aace388a",
   "metadata": {},
   "outputs": [
    {
     "name": "stdout",
     "output_type": "stream",
     "text": [
      "Orijinal cümle = Orta Çağ Döneminden beri farklı diller konuşulmaktadır. Üzücü olan şudur kİ bugün yaşadığımız tüm sıkıntıların bir sebebi de dillerin birer birer ölmesidir.\n",
      "--------------------------------------------------\n",
      "İşlenmiş Cümle = Orta Cag Doneminden beri farkli diller konusulmaktadir. Uzucu olan sudur kI bugun yasadigimiz tum sikintilarin bir sebebi de dillerin birer birer olmesidir.\n"
     ]
    }
   ],
   "source": [
    "# (str işlemi): bir metin içerisindeki cümlede yer alan\n",
    "# Türkçe karakterleri İngilizce karşılığı ile değiştiren\n",
    "# kodu yazınız. (Örneğin, Cümlede ç harfi geçiyorsa c yazacak\n",
    "# Ç harfi geçiyorsa C yazacak)\n",
    "\n",
    "my_sentence = \"Orta Çağ Döneminden beri farklı diller konuşulmaktadır. Üzücü olan şudur kİ bugün yaşadığımız tüm sıkıntıların bir sebebi de dillerin birer birer ölmesidir.\"\n",
    "\n",
    "print(f\"Orijinal cümle = {my_sentence}\")\n",
    "print(\"-\"*50)\n",
    "\n",
    "my_sentence = my_sentence.replace(\"ç\",\"c\").replace(\"Ç\",\"C\").replace(\"ğ\",\"g\").replace(\"Ğ\",\"G\").replace(\"ı\",\"i\").replace(\"İ\",\"I\").replace(\"ö\",\"o\").replace(\"Ö\",\"O\").replace(\"ş\",\"s\").replace(\"Ş\",\"S\").replace(\"ü\",\"u\").replace(\"Ü\",\"U\")\n",
    "\"\"\n",
    "print(f\"İşlenmiş Cümle = {my_sentence}\")"
   ]
  },
  {
   "cell_type": "code",
   "execution_count": 23,
   "id": "dd6f3491-963e-4d6e-bc4d-00d9f047d049",
   "metadata": {},
   "outputs": [
    {
     "name": "stdout",
     "output_type": "stream",
     "text": [
      "Dictionary veri yapısının Tüm anahtarları (keys) = dict_keys(['isim', 'soyisim', 'yas', 'dersler'])\n",
      "--------------------------------------------------\n",
      "Dictionary veri yapısının Tüm değerleri (values) = dict_values(['Furkan', 'ATLAN', 31, ['Orta Düzey Programlama, Python Programlama']])\n",
      "--------------------------------------------------\n",
      "Dictionary veri yapısının anahtar ve değerleri = dict_items([('isim', 'Furkan'), ('soyisim', 'ATLAN'), ('yas', 31), ('dersler', ['Orta Düzey Programlama, Python Programlama'])])\n",
      "--------------------------------------------------\n",
      "Sadece isim anahtarının değeri = Furkan\n"
     ]
    }
   ],
   "source": [
    "my_sentence = \"Orta Çağ Döneminden beri farklı diller konuşulmaktadır. Üzücü olan şudur kİ bugün yaşadığımız tüm sıkıntıların bir sebebi de dillerin birer birer ölmesidir.\"\n",
    "\n",
    "my_dictionary = {\"isim\":\"Furkan\",\"soyisim\":\"ATLAN\",\"yas\":31,\n",
    "                \"dersler\":[\"Orta Düzey Programlama, Python Programlama\"]}\n",
    "\n",
    "print(f\"Dictionary veri yapısının Tüm anahtarları (keys) = {my_dictionary.keys()}\")\n",
    "print(\"-\"*50)\n",
    "print(f\"Dictionary veri yapısının Tüm değerleri (values) = {my_dictionary.values()}\")\n",
    "print(\"-\"*50)\n",
    "print(f\"Dictionary veri yapısının anahtar ve değerleri = {my_dictionary.items()}\")\n",
    "print(\"-\"*50)\n",
    "print(f\"Sadece isim anahtarının değeri = {my_dictionary['isim']}\")"
   ]
  },
  {
   "cell_type": "code",
   "execution_count": 27,
   "id": "a9662d22-d10c-484d-9e2d-0789c5e1468e",
   "metadata": {},
   "outputs": [
    {
     "name": "stdout",
     "output_type": "stream",
     "text": [
      "Cümlenin orijinal hali = Orta Çağ Döneminden beri farklı diller konuşulmaktadır. Üzücü olan şudur kİ bugün yaşadığımız tüm sıkıntıların bir sebebi de dillerin birer birer ölmesidir.\n",
      "--------------------------------------------------\n",
      "Cümlenin işlenmiş hali = Orta Cag Doneminden beri farklı diller konuşulmaktadır. Üzücü olan şudur kİ bugün yaşadıgımız tüm sıkıntıların bir sebebi de dillerin birer birer olmesidir.\n"
     ]
    }
   ],
   "source": [
    "my_sentence = \"Orta Çağ Döneminden beri farklı diller konuşulmaktadır. Üzücü olan şudur kİ bugün yaşadığımız tüm sıkıntıların bir sebebi de dillerin birer birer ölmesidir.\"\n",
    "\n",
    "print(f\"Cümlenin orijinal hali = {my_sentence}\")\n",
    "\n",
    "turkish_to_english = {\"Ç\":\"C\",\"ğ\":\"g\",\"ö\":\"o\"}\n",
    "\n",
    "for turkish_character, english_character in turkish_to_english.items():\n",
    "    my_sentence = my_sentence.replace(turkish_character, english_character)\n",
    "\n",
    "print(\"-\"*50)\n",
    "print(f\"Cümlenin işlenmiş hali = {my_sentence}\")"
   ]
  },
  {
   "cell_type": "code",
   "execution_count": 29,
   "id": "d7d87a5a-37d2-43d8-91b1-4b13b9c4615c",
   "metadata": {},
   "outputs": [
    {
     "name": "stdin",
     "output_type": "stream",
     "text": [
      "Lütfen tamsayı giriniz:  580\n"
     ]
    },
    {
     "name": "stdout",
     "output_type": "stream",
     "text": [
      "580 sayısının 11 adet tam böleni bulundu:\n",
      "1\n",
      "2\n",
      "4\n",
      "5\n",
      "10\n",
      "20\n",
      "29\n",
      "58\n",
      "116\n",
      "145\n",
      "290\n"
     ]
    }
   ],
   "source": [
    "# Girilen bir tamsayının kendisi haricinde tüm tam bölenlerini\n",
    "# bulan ve bunları bir listeye ekleyip; sonrasında for döngüsü ile\n",
    "# tek tek gösteren kodu yazınız. NOT: kaç adet tam böleni olduğu\n",
    "# bilgisini de yazdırınız\n",
    "\n",
    "my_num_1 = int(input(\"Lütfen tamsayı giriniz: \"))\n",
    "\n",
    "bolenler = []\n",
    "sayac = 0\n",
    "\n",
    "for i in range(1,my_num_1):\n",
    "    if my_num_1%i==0:\n",
    "        bolenler.append(i)\n",
    "        sayac = sayac + 1\n",
    "        #sayac += 1 # yukarıdaki sayac kodu ile aynı işi yap\n",
    "\n",
    "print(f\"{my_num_1} sayısının {sayac} adet tam böleni bulundu:\")\n",
    "for i in bolenler:\n",
    "    print(i)"
   ]
  },
  {
   "cell_type": "code",
   "execution_count": null,
   "id": "9d1e9bbc-051e-4627-99b6-08fd51c7b22f",
   "metadata": {},
   "outputs": [],
   "source": []
  }
 ],
 "metadata": {
  "kernelspec": {
   "display_name": "tf_gpu_2_9_2",
   "language": "python",
   "name": "tf_gpu_2_9_2"
  },
  "language_info": {
   "codemirror_mode": {
    "name": "ipython",
    "version": 3
   },
   "file_extension": ".py",
   "mimetype": "text/x-python",
   "name": "python",
   "nbconvert_exporter": "python",
   "pygments_lexer": "ipython3",
   "version": "3.10.14"
  }
 },
 "nbformat": 4,
 "nbformat_minor": 5
}
